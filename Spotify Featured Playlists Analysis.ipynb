{
 "cells": [
  {
   "cell_type": "markdown",
   "metadata": {},
   "source": [
    "## Imports"
   ]
  },
  {
   "cell_type": "code",
   "execution_count": 1,
   "metadata": {},
   "outputs": [],
   "source": [
    "import spotipy\n",
    "from spotipy.oauth2 import SpotifyClientCredentials\n",
    "import pandas as pd\n",
    "import matplotlib.pyplot as plt\n",
    "import seaborn as sns\n",
    "import plotly.graph_objects as go\n",
    "from plotly.subplots import make_subplots"
   ]
  },
  {
   "cell_type": "markdown",
   "metadata": {},
   "source": [
    "## Credentials and Authentication"
   ]
  },
  {
   "cell_type": "code",
   "execution_count": 2,
   "metadata": {},
   "outputs": [],
   "source": [
    "client_credentials_manager = SpotifyClientCredentials(client_id='your-spotify-client-id', client_secret='your-spotify-client-secret')\n",
    "sp = spotipy.Spotify(client_credentials_manager=client_credentials_manager,requests_timeout=60)"
   ]
  },
  {
   "cell_type": "markdown",
   "metadata": {},
   "source": [
    "## Collect Featured Playlists and Information"
   ]
  },
  {
   "cell_type": "code",
   "execution_count": 3,
   "metadata": {},
   "outputs": [],
   "source": [
    "# Collect top 12 featured playlist IDs\n",
    "playlist_id = []\n",
    "\n",
    "featured_playlists = sp.featured_playlists()\n",
    "for i, f in enumerate(featured_playlists['playlists']['items']):\n",
    "    playlist_id.append(f['id'])\n",
    "    if i == 11:\n",
    "        break\n"
   ]
  },
  {
   "cell_type": "code",
   "execution_count": 4,
   "metadata": {},
   "outputs": [
    {
     "name": "stdout",
     "output_type": "stream",
     "text": [
      "There were 0 errors.\n"
     ]
    }
   ],
   "source": [
    "# Gather all tracks in each playlist\n",
    "album = []\n",
    "artist = []\n",
    "track_id = []\n",
    "track_name = []\n",
    "track_popularity = []\n",
    "playlist_name = []\n",
    "count_errors = 0\n",
    "\n",
    "for i, p in enumerate(playlist_id):\n",
    "    playlist_details = sp.playlist(playlist_id=p)\n",
    "    for j, d in enumerate(playlist_details['tracks']['items']):\n",
    "        # Check for errors with null values\n",
    "        try:\n",
    "            album.append(d['track']['album']['name'])\n",
    "            artist.append(d['track']['artists'][0]['name'])\n",
    "            track_id.append(d['track']['id'])\n",
    "            track_name.append(d['track']['name'])\n",
    "            track_popularity.append(d['track']['popularity'])\n",
    "            playlist_name.append(playlist_details['name'])\n",
    "        except:\n",
    "            count_errors += 1\n",
    "print('There were ' + str(count_errors) + ' errors.')"
   ]
  },
  {
   "cell_type": "code",
   "execution_count": 5,
   "metadata": {},
   "outputs": [
    {
     "name": "stdout",
     "output_type": "stream",
     "text": [
      "There were 0 errors.\n"
     ]
    }
   ],
   "source": [
    "# Gather all track information\n",
    "danceability = []\n",
    "energy = []\n",
    "loudness = []\n",
    "speechiness = []\n",
    "acousticness = []\n",
    "instrumentalness = []\n",
    "liveness = []\n",
    "valence = []\n",
    "tempo = []\n",
    "id = []\n",
    "duration_ms = []\n",
    "time_signature = []\n",
    "count_errors = 0\n",
    "\n",
    "for i in range(len(track_id)):\n",
    "    track_features = sp.audio_features(tracks=track_id[i])\n",
    "    for item in track_features:\n",
    "        # Check for errors with null values\n",
    "        try:\n",
    "            danceability.append(item['danceability'])\n",
    "            energy.append(item['energy'])\n",
    "            loudness.append(item['loudness'])\n",
    "            speechiness.append(item['speechiness'])\n",
    "            acousticness.append(item['acousticness'])\n",
    "            instrumentalness.append(item['instrumentalness'])\n",
    "            liveness.append(item['liveness'])\n",
    "            valence.append(item['valence'])\n",
    "            tempo.append(item['tempo'])\n",
    "            id.append(item['id'])\n",
    "            duration_ms.append(item['duration_ms'])\n",
    "            time_signature.append(item['time_signature'])\n",
    "        except:\n",
    "            danceability.append(None)\n",
    "            energy.append(None)\n",
    "            loudness.append(None)\n",
    "            speechiness.append(None)\n",
    "            acousticness.append(None)\n",
    "            instrumentalness.append(None)\n",
    "            liveness.append(None)\n",
    "            valence.append(None)\n",
    "            tempo.append(None)\n",
    "            id.append(None)\n",
    "            duration_ms.append(None)\n",
    "            time_signature.append(None)\n",
    "            count_errors += 1\n",
    "print('There were ' + str(count_errors) + ' errors.')"
   ]
  },
  {
   "cell_type": "markdown",
   "metadata": {},
   "source": [
    "## Gather All Collected Data in a DataFrame"
   ]
  },
  {
   "cell_type": "code",
   "execution_count": 6,
   "metadata": {},
   "outputs": [],
   "source": [
    "# Gather all information collected thusfar into a single dataframe\n",
    "playlist_info = pd.DataFrame({'playlist_name':playlist_name,\n",
    "    'track_id':track_id,\n",
    "    'track_name':track_name,\n",
    "    'track_popularity':track_popularity,\n",
    "    'danceability':danceability,\n",
    "    'energy':energy,\n",
    "    'speechiness':speechiness,\n",
    "    'acousticness':acousticness,\n",
    "    'instrumentalness':instrumentalness,\n",
    "    'liveness':liveness,\n",
    "    'valence':valence,\n",
    "    'loudness':loudness,\n",
    "    'tempo':tempo,\n",
    "    'duration_ms':duration_ms,\n",
    "    'time_signature':time_signature,\n",
    "    'id':id,\n",
    "    'artist':artist,\n",
    "    'album':album})"
   ]
  },
  {
   "cell_type": "code",
   "execution_count": 7,
   "metadata": {},
   "outputs": [],
   "source": [
    "# Adjust datatypes of columns with incorrect datatypes\n",
    "playlist_info['playlist_name'] = playlist_info['playlist_name'].astype('string')\n",
    "playlist_info['track_id'] = playlist_info['track_id'].astype('string')\n",
    "playlist_info['track_name'] = playlist_info['track_name'].astype('string')\n",
    "playlist_info['id'] = playlist_info['id'].astype('string')\n",
    "playlist_info['time_signature'] = playlist_info['time_signature'].astype('category')\n",
    "playlist_info['artist'] = playlist_info['artist'].astype('string')\n",
    "playlist_info['album'] = playlist_info['album'].astype('string')\n",
    "\n",
    "# Export dataframe to CSV for future further data analysis\n",
    "playlist_info.to_csv('playlistTrackStats.csv')"
   ]
  },
  {
   "cell_type": "code",
   "execution_count": 8,
   "metadata": {},
   "outputs": [],
   "source": [
    "# Gather all track information by playlist and add to its own dataframe\n",
    "playlist_stats = pd.DataFrame()\n",
    "\n",
    "for i, c in enumerate(list(playlist_info.columns)):\n",
    "    if 3 < i < 13:\n",
    "        playlist_stats = pd.concat([playlist_stats,\n",
    "            pd.DataFrame(playlist_info.groupby('playlist_name')[c].mean(), columns=[list(playlist_info.columns)[i]])],\n",
    "            axis=1)\n",
    "    elif i == 13:\n",
    "        playlist_stats = pd.concat([playlist_stats,\n",
    "            pd.DataFrame(playlist_info.groupby('playlist_name')[c].sum(), columns=[list(playlist_info.columns)[i]])],\n",
    "            axis=1)"
   ]
  },
  {
   "cell_type": "code",
   "execution_count": 9,
   "metadata": {},
   "outputs": [],
   "source": [
    "# Add a column for a more readable time of each playlist\n",
    "duration_time = []\n",
    "\n",
    "for i, ms in enumerate(playlist_stats['duration_ms']):\n",
    "    sec = ms/1000\n",
    "    minute = int(sec // 60)\n",
    "    sec = int(sec - (minute * 60))\n",
    "    hour = int(minute // 60)\n",
    "    minute = int(minute - (hour * 60))\n",
    "\n",
    "    if minute < 10:\n",
    "        minute = '0' + str(minute)\n",
    "    if sec < 10:\n",
    "        sec = '0' + str(sec)\n",
    "\n",
    "    time_min_sec = str(hour) + ':' + str(minute) + ':' + str(sec)\n",
    "    duration_time.append(time_min_sec)\n",
    "\n",
    "playlist_stats['duration_time'] = duration_time\n",
    "\n",
    "# Export new dataframe to CSV for future further data analysis\n",
    "playlist_stats.to_csv('playlistStatsCondensed.csv')"
   ]
  },
  {
   "cell_type": "markdown",
   "metadata": {},
   "source": [
    "## Visualizing the Data"
   ]
  },
  {
   "cell_type": "code",
   "execution_count": 10,
   "metadata": {},
   "outputs": [
    {
     "data": {
      "image/png": "[encoded data removed]",
      "text/plain": [
       "<Figure size 432x288 with 2 Axes>"
      ]
     },
     "metadata": {
      "needs_background": "light"
     },
     "output_type": "display_data"
    }
   ],
   "source": [
    "# Heatmap of the correlation coefficients between all the stats\n",
    "sns.set(rc = {'figure.figsize':(12,10)})\n",
    "correlations = playlist_stats[playlist_stats.columns[0:9]].corr()\n",
    "sns.heatmap(correlations, annot=True)\n",
    "plt.title('Heatmap', y=1.03, fontsize=24)\n",
    "plt.savefig('images/heatmap.png', facecolor='white')\n",
    "plt.show()"
   ]
  },
  {
   "cell_type": "code",
   "execution_count": 11,
   "metadata": {},
   "outputs": [
    {
     "data": {
      "image/png": "[encoded data removed]",
      "text/plain": [
       "<Figure size 432x432 with 3 Axes>"
      ]
     },
     "metadata": {
      "needs_background": "light"
     },
     "output_type": "display_data"
    },
    {
     "data": {
      "image/png": "[encoded data removed]",
      "text/plain": [
       "<Figure size 432x432 with 3 Axes>"
      ]
     },
     "metadata": {
      "needs_background": "light"
     },
     "output_type": "display_data"
    },
    {
     "data": {
      "image/png": "[encoded data removed]",
      "text/plain": [
       "<Figure size 432x432 with 3 Axes>"
      ]
     },
     "metadata": {
      "needs_background": "light"
     },
     "output_type": "display_data"
    }
   ],
   "source": [
    "# Setup KDE plot data for the most positive, most negative,\n",
    "# and closest to zero correlation pairs accross all playlists\n",
    "neg = 0\n",
    "pos = 0\n",
    "zero = 1\n",
    "\n",
    "correlations = playlist_stats[playlist_stats.columns[0:9]].corr()\n",
    "for i, cor in enumerate(correlations.index):\n",
    "    # Most Positive Correlation\n",
    "    pos_temp = min(correlations[cor].nlargest(2))\n",
    "    if pos_temp >= pos:\n",
    "        if pos_temp > pos:\n",
    "            pos = pos_temp\n",
    "            pos_col = cor\n",
    "        else:\n",
    "            pos_row = cor\n",
    "    \n",
    "    # Most Negative Correlation\n",
    "    neg_temp = min(correlations[cor])\n",
    "    if neg_temp <= neg:\n",
    "        if neg_temp < neg:\n",
    "            neg = neg_temp\n",
    "            neg_col = cor\n",
    "        else:\n",
    "            neg_row = cor\n",
    "    \n",
    "    # Zero Correlation\n",
    "    zero_temp = min(abs(correlations[cor]))\n",
    "    if zero_temp <= zero:\n",
    "        if zero_temp < zero:\n",
    "            zero = zero_temp\n",
    "            zero_col = cor\n",
    "        else:\n",
    "            zero_row = cor\n",
    "\n",
    "# Plot the info from the setups above\n",
    "mpc = sns.jointplot(data=playlist_stats, x=pos_col, y=pos_row, kind='kde')\n",
    "mpc.fig.subplots_adjust(top=.9)\n",
    "mpc.fig.suptitle('Most Positive Correlation', fontsize=24)\n",
    "plt.savefig('images/mostPositiveCorrelation.png', facecolor='white')\n",
    "plt.show()\n",
    "\n",
    "bzc = sns.jointplot(data=playlist_stats, x=zero_col, y=zero_row, kind='kde')\n",
    "bzc.fig.subplots_adjust(top=.9)\n",
    "bzc.fig.suptitle('Best Zero Correlation', fontsize=24)\n",
    "plt.savefig('images/bestZeroCorrelation.png', facecolor='white')\n",
    "plt.show()\n",
    "\n",
    "mnc = sns.jointplot(data=playlist_stats, x=neg_col, y=neg_row, kind='kde')\n",
    "mnc.fig.subplots_adjust(top=.9)\n",
    "mnc.fig.suptitle('Most Negative Correlation', fontsize=24)\n",
    "plt.savefig('images/mostNegativeCorrelation.png', facecolor='white')\n",
    "plt.show()"
   ]
  },
  {
   "cell_type": "code",
   "execution_count": 12,
   "metadata": {},
   "outputs": [
    {
     "data": {
      "application/vnd.plotly.v1+json": {
       "config": {
        "plotlyServerURL": "https://plot.ly"
       },
       "data": [
        {
         "fill": "toself",
         "name": "Dance Hits",
         "r": [
          0.69772,
          0.8018933333333333,
          0.07500533333333333,
          0.07253642666666667,
          0.08043443213333333,
          0.186192,
          0.5056986666666666
         ],
         "subplot": "polar",
         "theta": [
          "danceability",
          "energy",
          "speechiness",
          "acousticness",
          "instrumentalness",
          "liveness",
          "valence",
          "loudness",
          "tempo",
          "duration_ms",
          "duration_time"
         ],
         "type": "scatterpolar"
        },
        {
         "fill": "toself",
         "name": "Dance Party",
         "r": [
          0.6958199999999999,
          0.8217300000000001,
          0.06781799999999999,
          0.074691887,
          0.168568471,
          0.196782,
          0.483731
         ],
         "subplot": "polar2",
         "theta": [
          "danceability",
          "energy",
          "speechiness",
          "acousticness",
          "instrumentalness",
          "liveness",
          "valence",
          "loudness",
          "tempo",
          "duration_ms",
          "duration_time"
         ],
         "type": "scatterpolar"
        },
        {
         "fill": "toself",
         "name": "Feel Good Friday",
         "r": [
          0.6668000000000001,
          0.77362,
          0.071503,
          0.12371520999999999,
          0.013443422600000001,
          0.17637799999999998,
          0.70217
         ],
         "subplot": "polar3",
         "theta": [
          "danceability",
          "energy",
          "speechiness",
          "acousticness",
          "instrumentalness",
          "liveness",
          "valence",
          "loudness",
          "tempo",
          "duration_ms",
          "duration_time"
         ],
         "type": "scatterpolar"
        },
        {
         "fill": "toself",
         "name": "Happy 80s",
         "r": [
          0.68254,
          0.76806,
          0.047569,
          0.16655027,
          0.014844331100000002,
          0.17870799999999998,
          0.79522
         ],
         "subplot": "polar4",
         "theta": [
          "danceability",
          "energy",
          "speechiness",
          "acousticness",
          "instrumentalness",
          "liveness",
          "valence",
          "loudness",
          "tempo",
          "duration_ms",
          "duration_time"
         ],
         "type": "scatterpolar"
        },
        {
         "fill": "toself",
         "name": "I Love My '90s Hip-Hop",
         "r": [
          0.76751,
          0.68389,
          0.255259,
          0.1118916,
          0.0089459351,
          0.226677,
          0.65589
         ],
         "subplot": "polar5",
         "theta": [
          "danceability",
          "energy",
          "speechiness",
          "acousticness",
          "instrumentalness",
          "liveness",
          "valence",
          "loudness",
          "tempo",
          "duration_ms",
          "duration_time"
         ],
         "type": "scatterpolar"
        },
        {
         "fill": "toself",
         "name": "Main Stage",
         "r": [
          0.67116,
          0.83112,
          0.087682,
          0.0865018,
          0.0596862464,
          0.202612,
          0.420458
         ],
         "subplot": "polar6",
         "theta": [
          "danceability",
          "energy",
          "speechiness",
          "acousticness",
          "instrumentalness",
          "liveness",
          "valence",
          "loudness",
          "tempo",
          "duration_ms",
          "duration_time"
         ],
         "type": "scatterpolar"
        },
        {
         "fill": "toself",
         "name": "Mood Booster",
         "r": [
          0.6799342105263158,
          0.6934473684210526,
          0.0697421052631579,
          0.1594,
          0.0005510036842105263,
          0.1683565789473684,
          0.5816052631578947
         ],
         "subplot": "polar7",
         "theta": [
          "danceability",
          "energy",
          "speechiness",
          "acousticness",
          "instrumentalness",
          "liveness",
          "valence",
          "loudness",
          "tempo",
          "duration_ms",
          "duration_time"
         ],
         "type": "scatterpolar"
        },
        {
         "fill": "toself",
         "name": "New Music Friday",
         "r": [
          0.622061224489796,
          0.6348418367346939,
          0.1215469387755102,
          0.22056647142857141,
          0.03618925244897959,
          0.18224183673469388,
          0.47797551020408163
         ],
         "subplot": "polar8",
         "theta": [
          "danceability",
          "energy",
          "speechiness",
          "acousticness",
          "instrumentalness",
          "liveness",
          "valence",
          "loudness",
          "tempo",
          "duration_ms",
          "duration_time"
         ],
         "type": "scatterpolar"
        },
        {
         "fill": "toself",
         "name": "RapCaviar",
         "r": [
          0.74812,
          0.63158,
          0.240554,
          0.12861534,
          0.0019732568,
          0.20625,
          0.39474000000000004
         ],
         "subplot": "polar9",
         "theta": [
          "danceability",
          "energy",
          "speechiness",
          "acousticness",
          "instrumentalness",
          "liveness",
          "valence",
          "loudness",
          "tempo",
          "duration_ms",
          "duration_time"
         ],
         "type": "scatterpolar"
        },
        {
         "fill": "toself",
         "name": "Today's Top Hits",
         "r": [
          0.6875199999999999,
          0.67172,
          0.102446,
          0.22009414,
          0.0016092224,
          0.16196200000000002,
          0.546972
         ],
         "subplot": "polar10",
         "theta": [
          "danceability",
          "energy",
          "speechiness",
          "acousticness",
          "instrumentalness",
          "liveness",
          "valence",
          "loudness",
          "tempo",
          "duration_ms",
          "duration_time"
         ],
         "type": "scatterpolar"
        },
        {
         "fill": "toself",
         "name": "just hits",
         "r": [
          0.6814895833333333,
          0.7314583333333333,
          0.064409375,
          0.1307140625,
          0.0004916035416666667,
          0.19699479166666667,
          0.5507072916666667
         ],
         "subplot": "polar11",
         "theta": [
          "danceability",
          "energy",
          "speechiness",
          "acousticness",
          "instrumentalness",
          "liveness",
          "valence",
          "loudness",
          "tempo",
          "duration_ms",
          "duration_time"
         ],
         "type": "scatterpolar"
        },
        {
         "fill": "toself",
         "name": "young & free",
         "r": [
          0.67673,
          0.6700400000000001,
          0.07067899999999999,
          0.15406589,
          0.0034480271000000002,
          0.189007,
          0.6252179999999999
         ],
         "subplot": "polar12",
         "theta": [
          "danceability",
          "energy",
          "speechiness",
          "acousticness",
          "instrumentalness",
          "liveness",
          "valence",
          "loudness",
          "tempo",
          "duration_ms",
          "duration_time"
         ],
         "type": "scatterpolar"
        }
       ],
       "layout": {
        "annotations": [
         {
          "font": {
           "size": 16
          },
          "showarrow": false,
          "text": "Dance Hits",
          "x": 0.14285714285714285,
          "xanchor": "center",
          "xref": "paper",
          "y": 0.17,
          "yanchor": "bottom",
          "yref": "paper"
         },
         {
          "font": {
           "size": 16
          },
          "showarrow": false,
          "text": "Dance Party",
          "x": 0.5,
          "xanchor": "center",
          "xref": "paper",
          "y": 0.17,
          "yanchor": "bottom",
          "yref": "paper"
         },
         {
          "font": {
           "size": 16
          },
          "showarrow": false,
          "text": "Feel Good Friday",
          "x": 0.8571428571428571,
          "xanchor": "center",
          "xref": "paper",
          "y": 0.17,
          "yanchor": "bottom",
          "yref": "paper"
         },
         {
          "font": {
           "size": 16
          },
          "showarrow": false,
          "text": "Happy 80s",
          "x": 0.14285714285714285,
          "xanchor": "center",
          "xref": "paper",
          "y": 0.45,
          "yanchor": "bottom",
          "yref": "paper"
         },
         {
          "font": {
           "size": 16
          },
          "showarrow": false,
          "text": "I Love My '90s Hip-Hop",
          "x": 0.5,
          "xanchor": "center",
          "xref": "paper",
          "y": 0.45,
          "yanchor": "bottom",
          "yref": "paper"
         },
         {
          "font": {
           "size": 16
          },
          "showarrow": false,
          "text": "Main Stage",
          "x": 0.8571428571428571,
          "xanchor": "center",
          "xref": "paper",
          "y": 0.45,
          "yanchor": "bottom",
          "yref": "paper"
         },
         {
          "font": {
           "size": 16
          },
          "showarrow": false,
          "text": "Mood Booster",
          "x": 0.14285714285714285,
          "xanchor": "center",
          "xref": "paper",
          "y": 0.73,
          "yanchor": "bottom",
          "yref": "paper"
         },
         {
          "font": {
           "size": 16
          },
          "showarrow": false,
          "text": "New Music Friday",
          "x": 0.5,
          "xanchor": "center",
          "xref": "paper",
          "y": 0.73,
          "yanchor": "bottom",
          "yref": "paper"
         },
         {
          "font": {
           "size": 16
          },
          "showarrow": false,
          "text": "RapCaviar",
          "x": 0.8571428571428571,
          "xanchor": "center",
          "xref": "paper",
          "y": 0.73,
          "yanchor": "bottom",
          "yref": "paper"
         },
         {
          "font": {
           "size": 16
          },
          "showarrow": false,
          "text": "Today's Top Hits",
          "x": 0.14285714285714285,
          "xanchor": "center",
          "xref": "paper",
          "y": 1.01,
          "yanchor": "bottom",
          "yref": "paper"
         },
         {
          "font": {
           "size": 16
          },
          "showarrow": false,
          "text": "just hits",
          "x": 0.5,
          "xanchor": "center",
          "xref": "paper",
          "y": 1.01,
          "yanchor": "bottom",
          "yref": "paper"
         },
         {
          "font": {
           "size": 16
          },
          "showarrow": false,
          "text": "young & free",
          "x": 0.8571428571428571,
          "xanchor": "center",
          "xref": "paper",
          "y": 1.01,
          "yanchor": "bottom",
          "yref": "paper"
         }
        ],
        "height": 1500,
        "polar": {
         "domain": {
          "x": [
           0,
           0.2888888888888889
          ],
          "y": [
           0.84375,
           1
          ]
         },
         "radialaxis": {
          "angle": 90,
          "dtick": 0.2,
          "range": [
           0,
           1
          ],
          "tick0": 0.2
         }
        },
        "polar10": {
         "domain": {
          "x": [
           0,
           0.2888888888888889
          ],
          "y": [
           0,
           0.15625
          ]
         },
         "radialaxis": {
          "angle": 90,
          "dtick": 0.2,
          "range": [
           0,
           1
          ],
          "tick0": 0.2
         }
        },
        "polar11": {
         "domain": {
          "x": [
           0.35555555555555557,
           0.6444444444444445
          ],
          "y": [
           0,
           0.15625
          ]
         },
         "radialaxis": {
          "angle": 90,
          "dtick": 0.2,
          "range": [
           0,
           1
          ],
          "tick0": 0.2
         }
        },
        "polar12": {
         "domain": {
          "x": [
           0.7111111111111111,
           1
          ],
          "y": [
           0,
           0.15625
          ]
         },
         "radialaxis": {
          "angle": 90,
          "dtick": 0.2,
          "range": [
           0,
           1
          ],
          "tick0": 0.2
         }
        },
        "polar2": {
         "domain": {
          "x": [
           0.35555555555555557,
           0.6444444444444445
          ],
          "y": [
           0.84375,
           1
          ]
         },
         "radialaxis": {
          "angle": 90,
          "dtick": 0.2,
          "range": [
           0,
           1
          ],
          "tick0": 0.2
         }
        },
        "polar3": {
         "domain": {
          "x": [
           0.7111111111111111,
           1
          ],
          "y": [
           0.84375,
           1
          ]
         },
         "radialaxis": {
          "angle": 90,
          "dtick": 0.2,
          "range": [
           0,
           1
          ],
          "tick0": 0.2
         }
        },
        "polar4": {
         "domain": {
          "x": [
           0,
           0.2888888888888889
          ],
          "y": [
           0.5625,
           0.71875
          ]
         },
         "radialaxis": {
          "angle": 90,
          "dtick": 0.2,
          "range": [
           0,
           1
          ],
          "tick0": 0.2
         }
        },
        "polar5": {
         "domain": {
          "x": [
           0.35555555555555557,
           0.6444444444444445
          ],
          "y": [
           0.5625,
           0.71875
          ]
         },
         "radialaxis": {
          "angle": 90,
          "dtick": 0.2,
          "range": [
           0,
           1
          ],
          "tick0": 0.2
         }
        },
        "polar6": {
         "domain": {
          "x": [
           0.7111111111111111,
           1
          ],
          "y": [
           0.5625,
           0.71875
          ]
         },
         "radialaxis": {
          "angle": 90,
          "dtick": 0.2,
          "range": [
           0,
           1
          ],
          "tick0": 0.2
         }
        },
        "polar7": {
         "domain": {
          "x": [
           0,
           0.2888888888888889
          ],
          "y": [
           0.28125,
           0.4375
          ]
         },
         "radialaxis": {
          "angle": 90,
          "dtick": 0.2,
          "range": [
           0,
           1
          ],
          "tick0": 0.2
         }
        },
        "polar8": {
         "domain": {
          "x": [
           0.35555555555555557,
           0.6444444444444445
          ],
          "y": [
           0.28125,
           0.4375
          ]
         },
         "radialaxis": {
          "angle": 90,
          "dtick": 0.2,
          "range": [
           0,
           1
          ],
          "tick0": 0.2
         }
        },
        "polar9": {
         "domain": {
          "x": [
           0.7111111111111111,
           1
          ],
          "y": [
           0.28125,
           0.4375
          ]
         },
         "radialaxis": {
          "angle": 90,
          "dtick": 0.2,
          "range": [
           0,
           1
          ],
          "tick0": 0.2
         }
        },
        "showlegend": false,
        "template": {
         "data": {
          "bar": [
           {
            "error_x": {
             "color": "#2a3f5f"
            },
            "error_y": {
             "color": "#2a3f5f"
            },
            "marker": {
             "line": {
              "color": "#E5ECF6",
              "width": 0.5
             },
             "pattern": {
              "fillmode": "overlay",
              "size": 10,
              "solidity": 0.2
             }
            },
            "type": "bar"
           }
          ],
          "barpolar": [
           {
            "marker": {
             "line": {
              "color": "#E5ECF6",
              "width": 0.5
             },
             "pattern": {
              "fillmode": "overlay",
              "size": 10,
              "solidity": 0.2
             }
            },
            "type": "barpolar"
           }
          ],
          "carpet": [
           {
            "aaxis": {
             "endlinecolor": "#2a3f5f",
             "gridcolor": "white",
             "linecolor": "white",
             "minorgridcolor": "white",
             "startlinecolor": "#2a3f5f"
            },
            "baxis": {
             "endlinecolor": "#2a3f5f",
             "gridcolor": "white",
             "linecolor": "white",
             "minorgridcolor": "white",
             "startlinecolor": "#2a3f5f"
            },
            "type": "carpet"
           }
          ],
          "choropleth": [
           {
            "colorbar": {
             "outlinewidth": 0,
             "ticks": ""
            },
            "type": "choropleth"
           }
          ],
          "contour": [
           {
            "colorbar": {
             "outlinewidth": 0,
             "ticks": ""
            },
            "colorscale": [
             [
              0,
              "#0d0887"
             ],
             [
              0.1111111111111111,
              "#46039f"
             ],
             [
              0.2222222222222222,
              "#7201a8"
             ],
             [
              0.3333333333333333,
              "#9c179e"
             ],
             [
              0.4444444444444444,
              "#bd3786"
             ],
             [
              0.5555555555555556,
              "#d8576b"
             ],
             [
              0.6666666666666666,
              "#ed7953"
             ],
             [
              0.7777777777777778,
              "#fb9f3a"
             ],
             [
              0.8888888888888888,
              "#fdca26"
             ],
             [
              1,
              "#f0f921"
             ]
            ],
            "type": "contour"
           }
          ],
          "contourcarpet": [
           {
            "colorbar": {
             "outlinewidth": 0,
             "ticks": ""
            },
            "type": "contourcarpet"
           }
          ],
          "heatmap": [
           {
            "colorbar": {
             "outlinewidth": 0,
             "ticks": ""
            },
            "colorscale": [
             [
              0,
              "#0d0887"
             ],
             [
              0.1111111111111111,
              "#46039f"
             ],
             [
              0.2222222222222222,
              "#7201a8"
             ],
             [
              0.3333333333333333,
              "#9c179e"
             ],
             [
              0.4444444444444444,
              "#bd3786"
             ],
             [
              0.5555555555555556,
              "#d8576b"
             ],
             [
              0.6666666666666666,
              "#ed7953"
             ],
             [
              0.7777777777777778,
              "#fb9f3a"
             ],
             [
              0.8888888888888888,
              "#fdca26"
             ],
             [
              1,
              "#f0f921"
             ]
            ],
            "type": "heatmap"
           }
          ],
          "heatmapgl": [
           {
            "colorbar": {
             "outlinewidth": 0,
             "ticks": ""
            },
            "colorscale": [
             [
              0,
              "#0d0887"
             ],
             [
              0.1111111111111111,
              "#46039f"
             ],
             [
              0.2222222222222222,
              "#7201a8"
             ],
             [
              0.3333333333333333,
              "#9c179e"
             ],
             [
              0.4444444444444444,
              "#bd3786"
             ],
             [
              0.5555555555555556,
              "#d8576b"
             ],
             [
              0.6666666666666666,
              "#ed7953"
             ],
             [
              0.7777777777777778,
              "#fb9f3a"
             ],
             [
              0.8888888888888888,
              "#fdca26"
             ],
             [
              1,
              "#f0f921"
             ]
            ],
            "type": "heatmapgl"
           }
          ],
          "histogram": [
           {
            "marker": {
             "pattern": {
              "fillmode": "overlay",
              "size": 10,
              "solidity": 0.2
             }
            },
            "type": "histogram"
           }
          ],
          "histogram2d": [
           {
            "colorbar": {
             "outlinewidth": 0,
             "ticks": ""
            },
            "colorscale": [
             [
              0,
              "#0d0887"
             ],
             [
              0.1111111111111111,
              "#46039f"
             ],
             [
              0.2222222222222222,
              "#7201a8"
             ],
             [
              0.3333333333333333,
              "#9c179e"
             ],
             [
              0.4444444444444444,
              "#bd3786"
             ],
             [
              0.5555555555555556,
              "#d8576b"
             ],
             [
              0.6666666666666666,
              "#ed7953"
             ],
             [
              0.7777777777777778,
              "#fb9f3a"
             ],
             [
              0.8888888888888888,
              "#fdca26"
             ],
             [
              1,
              "#f0f921"
             ]
            ],
            "type": "histogram2d"
           }
          ],
          "histogram2dcontour": [
           {
            "colorbar": {
             "outlinewidth": 0,
             "ticks": ""
            },
            "colorscale": [
             [
              0,
              "#0d0887"
             ],
             [
              0.1111111111111111,
              "#46039f"
             ],
             [
              0.2222222222222222,
              "#7201a8"
             ],
             [
              0.3333333333333333,
              "#9c179e"
             ],
             [
              0.4444444444444444,
              "#bd3786"
             ],
             [
              0.5555555555555556,
              "#d8576b"
             ],
             [
              0.6666666666666666,
              "#ed7953"
             ],
             [
              0.7777777777777778,
              "#fb9f3a"
             ],
             [
              0.8888888888888888,
              "#fdca26"
             ],
             [
              1,
              "#f0f921"
             ]
            ],
            "type": "histogram2dcontour"
           }
          ],
          "mesh3d": [
           {
            "colorbar": {
             "outlinewidth": 0,
             "ticks": ""
            },
            "type": "mesh3d"
           }
          ],
          "parcoords": [
           {
            "line": {
             "colorbar": {
              "outlinewidth": 0,
              "ticks": ""
             }
            },
            "type": "parcoords"
           }
          ],
          "pie": [
           {
            "automargin": true,
            "type": "pie"
           }
          ],
          "scatter": [
           {
            "fillpattern": {
             "fillmode": "overlay",
             "size": 10,
             "solidity": 0.2
            },
            "type": "scatter"
           }
          ],
          "scatter3d": [
           {
            "line": {
             "colorbar": {
              "outlinewidth": 0,
              "ticks": ""
             }
            },
            "marker": {
             "colorbar": {
              "outlinewidth": 0,
              "ticks": ""
             }
            },
            "type": "scatter3d"
           }
          ],
          "scattercarpet": [
           {
            "marker": {
             "colorbar": {
              "outlinewidth": 0,
              "ticks": ""
             }
            },
            "type": "scattercarpet"
           }
          ],
          "scattergeo": [
           {
            "marker": {
             "colorbar": {
              "outlinewidth": 0,
              "ticks": ""
             }
            },
            "type": "scattergeo"
           }
          ],
          "scattergl": [
           {
            "marker": {
             "colorbar": {
              "outlinewidth": 0,
              "ticks": ""
             }
            },
            "type": "scattergl"
           }
          ],
          "scattermapbox": [
           {
            "marker": {
             "colorbar": {
              "outlinewidth": 0,
              "ticks": ""
             }
            },
            "type": "scattermapbox"
           }
          ],
          "scatterpolar": [
           {
            "marker": {
             "colorbar": {
              "outlinewidth": 0,
              "ticks": ""
             }
            },
            "type": "scatterpolar"
           }
          ],
          "scatterpolargl": [
           {
            "marker": {
             "colorbar": {
              "outlinewidth": 0,
              "ticks": ""
             }
            },
            "type": "scatterpolargl"
           }
          ],
          "scatterternary": [
           {
            "marker": {
             "colorbar": {
              "outlinewidth": 0,
              "ticks": ""
             }
            },
            "type": "scatterternary"
           }
          ],
          "surface": [
           {
            "colorbar": {
             "outlinewidth": 0,
             "ticks": ""
            },
            "colorscale": [
             [
              0,
              "#0d0887"
             ],
             [
              0.1111111111111111,
              "#46039f"
             ],
             [
              0.2222222222222222,
              "#7201a8"
             ],
             [
              0.3333333333333333,
              "#9c179e"
             ],
             [
              0.4444444444444444,
              "#bd3786"
             ],
             [
              0.5555555555555556,
              "#d8576b"
             ],
             [
              0.6666666666666666,
              "#ed7953"
             ],
             [
              0.7777777777777778,
              "#fb9f3a"
             ],
             [
              0.8888888888888888,
              "#fdca26"
             ],
             [
              1,
              "#f0f921"
             ]
            ],
            "type": "surface"
           }
          ],
          "table": [
           {
            "cells": {
             "fill": {
              "color": "#EBF0F8"
             },
             "line": {
              "color": "white"
             }
            },
            "header": {
             "fill": {
              "color": "#C8D4E3"
             },
             "line": {
              "color": "white"
             }
            },
            "type": "table"
           }
          ]
         },
         "layout": {
          "annotationdefaults": {
           "arrowcolor": "#2a3f5f",
           "arrowhead": 0,
           "arrowwidth": 1
          },
          "autotypenumbers": "strict",
          "coloraxis": {
           "colorbar": {
            "outlinewidth": 0,
            "ticks": ""
           }
          },
          "colorscale": {
           "diverging": [
            [
             0,
             "#8e0152"
            ],
            [
             0.1,
             "#c51b7d"
            ],
            [
             0.2,
             "#de77ae"
            ],
            [
             0.3,
             "#f1b6da"
            ],
            [
             0.4,
             "#fde0ef"
            ],
            [
             0.5,
             "#f7f7f7"
            ],
            [
             0.6,
             "#e6f5d0"
            ],
            [
             0.7,
             "#b8e186"
            ],
            [
             0.8,
             "#7fbc41"
            ],
            [
             0.9,
             "#4d9221"
            ],
            [
             1,
             "#276419"
            ]
           ],
           "sequential": [
            [
             0,
             "#0d0887"
            ],
            [
             0.1111111111111111,
             "#46039f"
            ],
            [
             0.2222222222222222,
             "#7201a8"
            ],
            [
             0.3333333333333333,
             "#9c179e"
            ],
            [
             0.4444444444444444,
             "#bd3786"
            ],
            [
             0.5555555555555556,
             "#d8576b"
            ],
            [
             0.6666666666666666,
             "#ed7953"
            ],
            [
             0.7777777777777778,
             "#fb9f3a"
            ],
            [
             0.8888888888888888,
             "#fdca26"
            ],
            [
             1,
             "#f0f921"
            ]
           ],
           "sequentialminus": [
            [
             0,
             "#0d0887"
            ],
            [
             0.1111111111111111,
             "#46039f"
            ],
            [
             0.2222222222222222,
             "#7201a8"
            ],
            [
             0.3333333333333333,
             "#9c179e"
            ],
            [
             0.4444444444444444,
             "#bd3786"
            ],
            [
             0.5555555555555556,
             "#d8576b"
            ],
            [
             0.6666666666666666,
             "#ed7953"
            ],
            [
             0.7777777777777778,
             "#fb9f3a"
            ],
            [
             0.8888888888888888,
             "#fdca26"
            ],
            [
             1,
             "#f0f921"
            ]
           ]
          },
          "colorway": [
           "#636efa",
           "#EF553B",
           "#00cc96",
           "#ab63fa",
           "#FFA15A",
           "#19d3f3",
           "#FF6692",
           "#B6E880",
           "#FF97FF",
           "#FECB52"
          ],
          "font": {
           "color": "#2a3f5f"
          },
          "geo": {
           "bgcolor": "white",
           "lakecolor": "white",
           "landcolor": "#E5ECF6",
           "showlakes": true,
           "showland": true,
           "subunitcolor": "white"
          },
          "hoverlabel": {
           "align": "left"
          },
          "hovermode": "closest",
          "mapbox": {
           "style": "light"
          },
          "paper_bgcolor": "white",
          "plot_bgcolor": "#E5ECF6",
          "polar": {
           "angularaxis": {
            "gridcolor": "white",
            "linecolor": "white",
            "ticks": ""
           },
           "bgcolor": "#E5ECF6",
           "radialaxis": {
            "gridcolor": "white",
            "linecolor": "white",
            "ticks": ""
           }
          },
          "scene": {
           "xaxis": {
            "backgroundcolor": "#E5ECF6",
            "gridcolor": "white",
            "gridwidth": 2,
            "linecolor": "white",
            "showbackground": true,
            "ticks": "",
            "zerolinecolor": "white"
           },
           "yaxis": {
            "backgroundcolor": "#E5ECF6",
            "gridcolor": "white",
            "gridwidth": 2,
            "linecolor": "white",
            "showbackground": true,
            "ticks": "",
            "zerolinecolor": "white"
           },
           "zaxis": {
            "backgroundcolor": "#E5ECF6",
            "gridcolor": "white",
            "gridwidth": 2,
            "linecolor": "white",
            "showbackground": true,
            "ticks": "",
            "zerolinecolor": "white"
           }
          },
          "shapedefaults": {
           "line": {
            "color": "#2a3f5f"
           }
          },
          "ternary": {
           "aaxis": {
            "gridcolor": "white",
            "linecolor": "white",
            "ticks": ""
           },
           "baxis": {
            "gridcolor": "white",
            "linecolor": "white",
            "ticks": ""
           },
           "bgcolor": "#E5ECF6",
           "caxis": {
            "gridcolor": "white",
            "linecolor": "white",
            "ticks": ""
           }
          },
          "title": {
           "x": 0.05
          },
          "xaxis": {
           "automargin": true,
           "gridcolor": "white",
           "linecolor": "white",
           "ticks": "",
           "title": {
            "standoff": 15
           },
           "zerolinecolor": "white",
           "zerolinewidth": 2
          },
          "yaxis": {
           "automargin": true,
           "gridcolor": "white",
           "linecolor": "white",
           "ticks": "",
           "title": {
            "standoff": 15
           },
           "zerolinecolor": "white",
           "zerolinewidth": 2
          }
         }
        },
        "title": {
         "font": {
          "size": 24
         },
         "text": "Playlist Polar Plots",
         "x": 0.5
        },
        "width": 1100
       }
      }
     },
     "metadata": {},
     "output_type": "display_data"
    }
   ],
   "source": [
    "# Make polar scatterplots of the data by playlist\n",
    "fig = make_subplots(rows=4, cols=3, specs=[[{'type':'polar'}]*3]*4, subplot_titles=playlist_stats.index)\n",
    "\n",
    "for i, name in enumerate(playlist_stats.index):\n",
    "    fig.add_traces(go.Scatterpolar(name=playlist_stats.index[i],\n",
    "        r=playlist_stats.iloc[i][0:7],\n",
    "        theta=playlist_stats.columns), i // 3 + 1, i % 3 + 1)\n",
    "\n",
    "fig.update_traces(fill='toself')\n",
    "fig.update_polars(radialaxis_angle=90, radialaxis_tick0=0.2, radialaxis_dtick=0.2, radialaxis_range=[0,1])\n",
    "for i, name in enumerate(playlist_stats.index):\n",
    "    fig.update_annotations(x=(25 * (i % 3) + 10) / 70,\n",
    "        y=(28 * (i // 3) + 17) / 100,\n",
    "        selector={'text':name})\n",
    "fig.update_layout(showlegend=False, height=1500, width=1100, title_text='Playlist Polar Plots', title_x=0.5, title_font_size=24)\n",
    "fig.show()\n",
    "fig.write_image('images/playlistPolarPlots.png')"
   ]
  }
 ],
 "metadata": {
  "kernelspec": {
   "display_name": "Python 3.9.13 ('spotEnv')",
   "language": "python",
   "name": "python3"
  },
  "language_info": {
   "codemirror_mode": {
    "name": "ipython",
    "version": 3
   },
   "file_extension": ".py",
   "mimetype": "text/x-python",
   "name": "python",
   "nbconvert_exporter": "python",
   "pygments_lexer": "ipython3",
   "version": "3.9.13"
  },
  "orig_nbformat": 4,
  "vscode": {
   "interpreter": {
    "hash": "9419f7785f6592b9667f2b9d6bdcb7e7318ad456e92143acf1dd561cbe439507"
   }
  }
 },
 "nbformat": 4,
 "nbformat_minor": 2
}
